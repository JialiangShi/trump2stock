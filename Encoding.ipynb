{
 "cells": [
  {
   "cell_type": "code",
   "execution_count": 1,
   "metadata": {},
   "outputs": [],
   "source": [
    "import numpy as np \n",
    "import pandas as pd \n",
    "import os\n",
    "import spacy\n",
    "import string\n",
    "import re\n",
    "from spacy.symbols import ORTH\n",
    "from collections import Counter\n",
    "\n",
    "import torch\n",
    "import torch.nn as nn\n",
    "import torch.nn.functional as F\n",
    "from torch.utils.data import Dataset, DataLoader\n",
    "from torch.nn.utils.rnn import pack_padded_sequence, pad_packed_sequence"
   ]
  },
  {
   "cell_type": "code",
   "execution_count": 2,
   "metadata": {},
   "outputs": [],
   "source": [
    "df = pd.read_csv('data.csv')"
   ]
  },
  {
   "cell_type": "code",
   "execution_count": 3,
   "metadata": {},
   "outputs": [
    {
     "data": {
      "text/html": [
       "<div>\n",
       "<style scoped>\n",
       "    .dataframe tbody tr th:only-of-type {\n",
       "        vertical-align: middle;\n",
       "    }\n",
       "\n",
       "    .dataframe tbody tr th {\n",
       "        vertical-align: top;\n",
       "    }\n",
       "\n",
       "    .dataframe thead th {\n",
       "        text-align: right;\n",
       "    }\n",
       "</style>\n",
       "<table border=\"1\" class=\"dataframe\">\n",
       "  <thead>\n",
       "    <tr style=\"text-align: right;\">\n",
       "      <th></th>\n",
       "      <th>source</th>\n",
       "      <th>text</th>\n",
       "      <th>created_at</th>\n",
       "      <th>retweet_count</th>\n",
       "      <th>favorite_count</th>\n",
       "      <th>time</th>\n",
       "      <th>date</th>\n",
       "      <th>Date</th>\n",
       "      <th>Open</th>\n",
       "      <th>High</th>\n",
       "      <th>Low</th>\n",
       "      <th>Close</th>\n",
       "      <th>Adj Close</th>\n",
       "      <th>Volume</th>\n",
       "      <th>diff</th>\n",
       "      <th>label</th>\n",
       "    </tr>\n",
       "  </thead>\n",
       "  <tbody>\n",
       "    <tr>\n",
       "      <th>0</th>\n",
       "      <td>Twitter for iPhone</td>\n",
       "      <td>I will be announcing my Second Term Presidenti...</td>\n",
       "      <td>05-31-2019 20:35:41</td>\n",
       "      <td>35248</td>\n",
       "      <td>128039</td>\n",
       "      <td>2019-05-31 20:35:41</td>\n",
       "      <td>2019-05-31</td>\n",
       "      <td>2019-05-31</td>\n",
       "      <td>2766.149902</td>\n",
       "      <td>2768.97998</td>\n",
       "      <td>2750.52002</td>\n",
       "      <td>2752.060059</td>\n",
       "      <td>2752.060059</td>\n",
       "      <td>3981020000</td>\n",
       "      <td>-14.089843</td>\n",
       "      <td>0</td>\n",
       "    </tr>\n",
       "    <tr>\n",
       "      <th>1</th>\n",
       "      <td>Twitter Media Studio</td>\n",
       "      <td>GREAT NEWS! #MAGA https://t.co/91Yk8B11bP</td>\n",
       "      <td>05-31-2019 20:02:16</td>\n",
       "      <td>20493</td>\n",
       "      <td>75339</td>\n",
       "      <td>2019-05-31 20:02:16</td>\n",
       "      <td>2019-05-31</td>\n",
       "      <td>2019-05-31</td>\n",
       "      <td>2766.149902</td>\n",
       "      <td>2768.97998</td>\n",
       "      <td>2750.52002</td>\n",
       "      <td>2752.060059</td>\n",
       "      <td>2752.060059</td>\n",
       "      <td>3981020000</td>\n",
       "      <td>-14.089843</td>\n",
       "      <td>0</td>\n",
       "    </tr>\n",
       "    <tr>\n",
       "      <th>2</th>\n",
       "      <td>Twitter for iPhone</td>\n",
       "      <td>As we celebrate LGBT Pride Month and recognize...</td>\n",
       "      <td>05-31-2019 19:12:32</td>\n",
       "      <td>28936</td>\n",
       "      <td>136614</td>\n",
       "      <td>2019-05-31 19:12:32</td>\n",
       "      <td>2019-05-31</td>\n",
       "      <td>2019-05-31</td>\n",
       "      <td>2766.149902</td>\n",
       "      <td>2768.97998</td>\n",
       "      <td>2750.52002</td>\n",
       "      <td>2752.060059</td>\n",
       "      <td>2752.060059</td>\n",
       "      <td>3981020000</td>\n",
       "      <td>-14.089843</td>\n",
       "      <td>0</td>\n",
       "    </tr>\n",
       "    <tr>\n",
       "      <th>3</th>\n",
       "      <td>Twitter for iPhone</td>\n",
       "      <td>....on the basis of their sexual orientation. ...</td>\n",
       "      <td>05-31-2019 19:12:32</td>\n",
       "      <td>20416</td>\n",
       "      <td>105421</td>\n",
       "      <td>2019-05-31 19:12:32</td>\n",
       "      <td>2019-05-31</td>\n",
       "      <td>2019-05-31</td>\n",
       "      <td>2766.149902</td>\n",
       "      <td>2768.97998</td>\n",
       "      <td>2750.52002</td>\n",
       "      <td>2752.060059</td>\n",
       "      <td>2752.060059</td>\n",
       "      <td>3981020000</td>\n",
       "      <td>-14.089843</td>\n",
       "      <td>0</td>\n",
       "    </tr>\n",
       "    <tr>\n",
       "      <th>4</th>\n",
       "      <td>Twitter for iPhone</td>\n",
       "      <td>.@SeanHannity is having a DEEP STATE SHOW toni...</td>\n",
       "      <td>05-31-2019 18:11:25</td>\n",
       "      <td>18257</td>\n",
       "      <td>65602</td>\n",
       "      <td>2019-05-31 18:11:25</td>\n",
       "      <td>2019-05-31</td>\n",
       "      <td>2019-05-31</td>\n",
       "      <td>2766.149902</td>\n",
       "      <td>2768.97998</td>\n",
       "      <td>2750.52002</td>\n",
       "      <td>2752.060059</td>\n",
       "      <td>2752.060059</td>\n",
       "      <td>3981020000</td>\n",
       "      <td>-14.089843</td>\n",
       "      <td>0</td>\n",
       "    </tr>\n",
       "  </tbody>\n",
       "</table>\n",
       "</div>"
      ],
      "text/plain": [
       "                 source                                               text  \\\n",
       "0    Twitter for iPhone  I will be announcing my Second Term Presidenti...   \n",
       "1  Twitter Media Studio          GREAT NEWS! #MAGA https://t.co/91Yk8B11bP   \n",
       "2    Twitter for iPhone  As we celebrate LGBT Pride Month and recognize...   \n",
       "3    Twitter for iPhone  ....on the basis of their sexual orientation. ...   \n",
       "4    Twitter for iPhone  .@SeanHannity is having a DEEP STATE SHOW toni...   \n",
       "\n",
       "            created_at  retweet_count  favorite_count                 time  \\\n",
       "0  05-31-2019 20:35:41          35248          128039  2019-05-31 20:35:41   \n",
       "1  05-31-2019 20:02:16          20493           75339  2019-05-31 20:02:16   \n",
       "2  05-31-2019 19:12:32          28936          136614  2019-05-31 19:12:32   \n",
       "3  05-31-2019 19:12:32          20416          105421  2019-05-31 19:12:32   \n",
       "4  05-31-2019 18:11:25          18257           65602  2019-05-31 18:11:25   \n",
       "\n",
       "         date        Date         Open        High         Low        Close  \\\n",
       "0  2019-05-31  2019-05-31  2766.149902  2768.97998  2750.52002  2752.060059   \n",
       "1  2019-05-31  2019-05-31  2766.149902  2768.97998  2750.52002  2752.060059   \n",
       "2  2019-05-31  2019-05-31  2766.149902  2768.97998  2750.52002  2752.060059   \n",
       "3  2019-05-31  2019-05-31  2766.149902  2768.97998  2750.52002  2752.060059   \n",
       "4  2019-05-31  2019-05-31  2766.149902  2768.97998  2750.52002  2752.060059   \n",
       "\n",
       "     Adj Close      Volume       diff  label  \n",
       "0  2752.060059  3981020000 -14.089843      0  \n",
       "1  2752.060059  3981020000 -14.089843      0  \n",
       "2  2752.060059  3981020000 -14.089843      0  \n",
       "3  2752.060059  3981020000 -14.089843      0  \n",
       "4  2752.060059  3981020000 -14.089843      0  "
      ]
     },
     "execution_count": 3,
     "metadata": {},
     "output_type": "execute_result"
    }
   ],
   "source": [
    "df.head()"
   ]
  },
  {
   "cell_type": "markdown",
   "metadata": {},
   "source": [
    "## Tokenization"
   ]
  },
  {
   "cell_type": "code",
   "execution_count": 4,
   "metadata": {},
   "outputs": [],
   "source": [
    "re_br = re.compile(r'<\\s*br\\s*/?>', re.IGNORECASE)\n",
    "def sub_br(x): return re_br.sub(\"\\n\", x)\n",
    "\n",
    "my_tok = spacy.load('en')\n",
    "def spacy_tok(x): return [tok.text.lower() for tok in my_tok.tokenizer(sub_br(x))]"
   ]
  },
  {
   "cell_type": "code",
   "execution_count": 5,
   "metadata": {},
   "outputs": [
    {
     "data": {
      "text/plain": [
       "['great', 'news', '!', '#', 'maga', 'https://t.co/91yk8b11bp']"
      ]
     },
     "execution_count": 5,
     "metadata": {},
     "output_type": "execute_result"
    }
   ],
   "source": [
    "x = df.loc[1, 'text']\n",
    "spacy_tok(x)"
   ]
  },
  {
   "cell_type": "code",
   "execution_count": 6,
   "metadata": {},
   "outputs": [],
   "source": [
    "df['words'] = df['text'].apply(spacy_tok)"
   ]
  },
  {
   "cell_type": "code",
   "execution_count": 7,
   "metadata": {},
   "outputs": [
    {
     "data": {
      "text/html": [
       "<div>\n",
       "<style scoped>\n",
       "    .dataframe tbody tr th:only-of-type {\n",
       "        vertical-align: middle;\n",
       "    }\n",
       "\n",
       "    .dataframe tbody tr th {\n",
       "        vertical-align: top;\n",
       "    }\n",
       "\n",
       "    .dataframe thead th {\n",
       "        text-align: right;\n",
       "    }\n",
       "</style>\n",
       "<table border=\"1\" class=\"dataframe\">\n",
       "  <thead>\n",
       "    <tr style=\"text-align: right;\">\n",
       "      <th></th>\n",
       "      <th>source</th>\n",
       "      <th>text</th>\n",
       "      <th>created_at</th>\n",
       "      <th>retweet_count</th>\n",
       "      <th>favorite_count</th>\n",
       "      <th>time</th>\n",
       "      <th>date</th>\n",
       "      <th>Date</th>\n",
       "      <th>Open</th>\n",
       "      <th>High</th>\n",
       "      <th>Low</th>\n",
       "      <th>Close</th>\n",
       "      <th>Adj Close</th>\n",
       "      <th>Volume</th>\n",
       "      <th>diff</th>\n",
       "      <th>label</th>\n",
       "      <th>words</th>\n",
       "    </tr>\n",
       "  </thead>\n",
       "  <tbody>\n",
       "    <tr>\n",
       "      <th>0</th>\n",
       "      <td>Twitter for iPhone</td>\n",
       "      <td>I will be announcing my Second Term Presidenti...</td>\n",
       "      <td>05-31-2019 20:35:41</td>\n",
       "      <td>35248</td>\n",
       "      <td>128039</td>\n",
       "      <td>2019-05-31 20:35:41</td>\n",
       "      <td>2019-05-31</td>\n",
       "      <td>2019-05-31</td>\n",
       "      <td>2766.149902</td>\n",
       "      <td>2768.97998</td>\n",
       "      <td>2750.52002</td>\n",
       "      <td>2752.060059</td>\n",
       "      <td>2752.060059</td>\n",
       "      <td>3981020000</td>\n",
       "      <td>-14.089843</td>\n",
       "      <td>0</td>\n",
       "      <td>[i, will, be, announcing, my, second, term, pr...</td>\n",
       "    </tr>\n",
       "    <tr>\n",
       "      <th>1</th>\n",
       "      <td>Twitter Media Studio</td>\n",
       "      <td>GREAT NEWS! #MAGA https://t.co/91Yk8B11bP</td>\n",
       "      <td>05-31-2019 20:02:16</td>\n",
       "      <td>20493</td>\n",
       "      <td>75339</td>\n",
       "      <td>2019-05-31 20:02:16</td>\n",
       "      <td>2019-05-31</td>\n",
       "      <td>2019-05-31</td>\n",
       "      <td>2766.149902</td>\n",
       "      <td>2768.97998</td>\n",
       "      <td>2750.52002</td>\n",
       "      <td>2752.060059</td>\n",
       "      <td>2752.060059</td>\n",
       "      <td>3981020000</td>\n",
       "      <td>-14.089843</td>\n",
       "      <td>0</td>\n",
       "      <td>[great, news, !, #, maga, https://t.co/91yk8b1...</td>\n",
       "    </tr>\n",
       "    <tr>\n",
       "      <th>2</th>\n",
       "      <td>Twitter for iPhone</td>\n",
       "      <td>As we celebrate LGBT Pride Month and recognize...</td>\n",
       "      <td>05-31-2019 19:12:32</td>\n",
       "      <td>28936</td>\n",
       "      <td>136614</td>\n",
       "      <td>2019-05-31 19:12:32</td>\n",
       "      <td>2019-05-31</td>\n",
       "      <td>2019-05-31</td>\n",
       "      <td>2766.149902</td>\n",
       "      <td>2768.97998</td>\n",
       "      <td>2750.52002</td>\n",
       "      <td>2752.060059</td>\n",
       "      <td>2752.060059</td>\n",
       "      <td>3981020000</td>\n",
       "      <td>-14.089843</td>\n",
       "      <td>0</td>\n",
       "      <td>[as, we, celebrate, lgbt, pride, month, and, r...</td>\n",
       "    </tr>\n",
       "    <tr>\n",
       "      <th>3</th>\n",
       "      <td>Twitter for iPhone</td>\n",
       "      <td>....on the basis of their sexual orientation. ...</td>\n",
       "      <td>05-31-2019 19:12:32</td>\n",
       "      <td>20416</td>\n",
       "      <td>105421</td>\n",
       "      <td>2019-05-31 19:12:32</td>\n",
       "      <td>2019-05-31</td>\n",
       "      <td>2019-05-31</td>\n",
       "      <td>2766.149902</td>\n",
       "      <td>2768.97998</td>\n",
       "      <td>2750.52002</td>\n",
       "      <td>2752.060059</td>\n",
       "      <td>2752.060059</td>\n",
       "      <td>3981020000</td>\n",
       "      <td>-14.089843</td>\n",
       "      <td>0</td>\n",
       "      <td>[...., on, the, basis, of, their, sexual, orie...</td>\n",
       "    </tr>\n",
       "    <tr>\n",
       "      <th>4</th>\n",
       "      <td>Twitter for iPhone</td>\n",
       "      <td>.@SeanHannity is having a DEEP STATE SHOW toni...</td>\n",
       "      <td>05-31-2019 18:11:25</td>\n",
       "      <td>18257</td>\n",
       "      <td>65602</td>\n",
       "      <td>2019-05-31 18:11:25</td>\n",
       "      <td>2019-05-31</td>\n",
       "      <td>2019-05-31</td>\n",
       "      <td>2766.149902</td>\n",
       "      <td>2768.97998</td>\n",
       "      <td>2750.52002</td>\n",
       "      <td>2752.060059</td>\n",
       "      <td>2752.060059</td>\n",
       "      <td>3981020000</td>\n",
       "      <td>-14.089843</td>\n",
       "      <td>0</td>\n",
       "      <td>[.@seanhannity, is, having, a, deep, state, sh...</td>\n",
       "    </tr>\n",
       "  </tbody>\n",
       "</table>\n",
       "</div>"
      ],
      "text/plain": [
       "                 source                                               text  \\\n",
       "0    Twitter for iPhone  I will be announcing my Second Term Presidenti...   \n",
       "1  Twitter Media Studio          GREAT NEWS! #MAGA https://t.co/91Yk8B11bP   \n",
       "2    Twitter for iPhone  As we celebrate LGBT Pride Month and recognize...   \n",
       "3    Twitter for iPhone  ....on the basis of their sexual orientation. ...   \n",
       "4    Twitter for iPhone  .@SeanHannity is having a DEEP STATE SHOW toni...   \n",
       "\n",
       "            created_at  retweet_count  favorite_count                 time  \\\n",
       "0  05-31-2019 20:35:41          35248          128039  2019-05-31 20:35:41   \n",
       "1  05-31-2019 20:02:16          20493           75339  2019-05-31 20:02:16   \n",
       "2  05-31-2019 19:12:32          28936          136614  2019-05-31 19:12:32   \n",
       "3  05-31-2019 19:12:32          20416          105421  2019-05-31 19:12:32   \n",
       "4  05-31-2019 18:11:25          18257           65602  2019-05-31 18:11:25   \n",
       "\n",
       "         date        Date         Open        High         Low        Close  \\\n",
       "0  2019-05-31  2019-05-31  2766.149902  2768.97998  2750.52002  2752.060059   \n",
       "1  2019-05-31  2019-05-31  2766.149902  2768.97998  2750.52002  2752.060059   \n",
       "2  2019-05-31  2019-05-31  2766.149902  2768.97998  2750.52002  2752.060059   \n",
       "3  2019-05-31  2019-05-31  2766.149902  2768.97998  2750.52002  2752.060059   \n",
       "4  2019-05-31  2019-05-31  2766.149902  2768.97998  2750.52002  2752.060059   \n",
       "\n",
       "     Adj Close      Volume       diff  label  \\\n",
       "0  2752.060059  3981020000 -14.089843      0   \n",
       "1  2752.060059  3981020000 -14.089843      0   \n",
       "2  2752.060059  3981020000 -14.089843      0   \n",
       "3  2752.060059  3981020000 -14.089843      0   \n",
       "4  2752.060059  3981020000 -14.089843      0   \n",
       "\n",
       "                                               words  \n",
       "0  [i, will, be, announcing, my, second, term, pr...  \n",
       "1  [great, news, !, #, maga, https://t.co/91yk8b1...  \n",
       "2  [as, we, celebrate, lgbt, pride, month, and, r...  \n",
       "3  [...., on, the, basis, of, their, sexual, orie...  \n",
       "4  [.@seanhannity, is, having, a, deep, state, sh...  "
      ]
     },
     "execution_count": 7,
     "metadata": {},
     "output_type": "execute_result"
    }
   ],
   "source": [
    "df.head()"
   ]
  },
  {
   "cell_type": "markdown",
   "metadata": {},
   "source": [
    "## Generate Vocab"
   ]
  },
  {
   "cell_type": "code",
   "execution_count": 8,
   "metadata": {},
   "outputs": [],
   "source": [
    "df_words = df['words'].tolist()"
   ]
  },
  {
   "cell_type": "code",
   "execution_count": 9,
   "metadata": {},
   "outputs": [],
   "source": [
    "import itertools\n",
    "from collections import defaultdict\n",
    "\n",
    "# Reshape\n",
    "ws = list(itertools.chain(*df_words))"
   ]
  },
  {
   "cell_type": "code",
   "execution_count": 10,
   "metadata": {},
   "outputs": [
    {
     "data": {
      "text/plain": [
       "170020"
      ]
     },
     "execution_count": 10,
     "metadata": {},
     "output_type": "execute_result"
    }
   ],
   "source": [
    "len(ws)"
   ]
  },
  {
   "cell_type": "code",
   "execution_count": 11,
   "metadata": {},
   "outputs": [],
   "source": [
    "word_count = Counter()\n",
    "word_count.update(ws)"
   ]
  },
  {
   "cell_type": "code",
   "execution_count": 12,
   "metadata": {},
   "outputs": [
    {
     "data": {
      "text/plain": [
       "11961"
      ]
     },
     "execution_count": 12,
     "metadata": {},
     "output_type": "execute_result"
    }
   ],
   "source": [
    "len(word_count.keys())"
   ]
  },
  {
   "cell_type": "code",
   "execution_count": 13,
   "metadata": {},
   "outputs": [],
   "source": [
    "# delete if occurs < 5 times and it is not in our pretrained embeddings\n",
    "for word in list(word_count):\n",
    "    if word_count[word] < 5:\n",
    "        del word_count[word]"
   ]
  },
  {
   "cell_type": "code",
   "execution_count": 14,
   "metadata": {},
   "outputs": [
    {
     "data": {
      "text/plain": [
       "2845"
      ]
     },
     "execution_count": 14,
     "metadata": {},
     "output_type": "execute_result"
    }
   ],
   "source": [
    "len(word_count.keys())"
   ]
  },
  {
   "cell_type": "code",
   "execution_count": 15,
   "metadata": {},
   "outputs": [],
   "source": [
    "vocab2index = {\"UNK\":0} # init with unknown\n",
    "words = [\"UNK\"]\n",
    "for word in word_count:\n",
    "    vocab2index[word] = len(words)\n",
    "    words.append(word)"
   ]
  },
  {
   "cell_type": "code",
   "execution_count": 16,
   "metadata": {},
   "outputs": [
    {
     "data": {
      "text/plain": [
       "2846"
      ]
     },
     "execution_count": 16,
     "metadata": {},
     "output_type": "execute_result"
    }
   ],
   "source": [
    "len(words)"
   ]
  },
  {
   "cell_type": "code",
   "execution_count": 17,
   "metadata": {},
   "outputs": [],
   "source": [
    "vocab_size = len(words)"
   ]
  },
  {
   "cell_type": "markdown",
   "metadata": {},
   "source": [
    "## Bag of words representation"
   ]
  },
  {
   "cell_type": "code",
   "execution_count": 18,
   "metadata": {},
   "outputs": [],
   "source": [
    "def bow(x, vocab2index):\n",
    "    enc = np.zeros(len(vocab2index.keys()))\n",
    "    words = set(x)\n",
    "    for word in words:\n",
    "        enc[vocab2index.get(word, 0)] = 1 # 0 if the UNK index\n",
    "    return enc"
   ]
  },
  {
   "cell_type": "code",
   "execution_count": 19,
   "metadata": {},
   "outputs": [
    {
     "data": {
      "text/plain": [
       "['great', 'news', '!', '#', 'maga', 'https://t.co/91yk8b11bp']"
      ]
     },
     "execution_count": 19,
     "metadata": {},
     "output_type": "execute_result"
    }
   ],
   "source": [
    "maga = df.loc[1, 'words']\n",
    "maga"
   ]
  },
  {
   "cell_type": "code",
   "execution_count": 20,
   "metadata": {},
   "outputs": [
    {
     "data": {
      "text/plain": [
       "array([1., 0., 0., ..., 0., 0., 0.])"
      ]
     },
     "execution_count": 20,
     "metadata": {},
     "output_type": "execute_result"
    }
   ],
   "source": [
    "bow(maga, vocab2index)"
   ]
  },
  {
   "cell_type": "markdown",
   "metadata": {},
   "source": [
    "## Train Test Split"
   ]
  },
  {
   "cell_type": "code",
   "execution_count": 21,
   "metadata": {},
   "outputs": [],
   "source": [
    "from sklearn.model_selection import train_test_split\n",
    "\n",
    "df_train, df_test, y_train, y_test = train_test_split(df, df['label'], test_size=0.2, random_state=42)"
   ]
  },
  {
   "cell_type": "code",
   "execution_count": 22,
   "metadata": {},
   "outputs": [],
   "source": [
    "df_train = df_train.reset_index(drop=True)\n",
    "df_test = df_test.reset_index(drop=True)"
   ]
  },
  {
   "cell_type": "code",
   "execution_count": 23,
   "metadata": {},
   "outputs": [
    {
     "data": {
      "text/plain": [
       "3869"
      ]
     },
     "execution_count": 23,
     "metadata": {},
     "output_type": "execute_result"
    }
   ],
   "source": [
    "len(df_train)"
   ]
  },
  {
   "cell_type": "code",
   "execution_count": 24,
   "metadata": {},
   "outputs": [
    {
     "data": {
      "text/plain": [
       "968"
      ]
     },
     "execution_count": 24,
     "metadata": {},
     "output_type": "execute_result"
    }
   ],
   "source": [
    "len(df_test)"
   ]
  },
  {
   "cell_type": "markdown",
   "metadata": {},
   "source": [
    "## Dataset"
   ]
  },
  {
   "cell_type": "code",
   "execution_count": 25,
   "metadata": {},
   "outputs": [
    {
     "data": {
      "text/plain": [
       "Index(['source', 'text', 'created_at', 'retweet_count', 'favorite_count',\n",
       "       'time', 'date', 'Date', 'Open', 'High', 'Low', 'Close', 'Adj Close',\n",
       "       'Volume', 'diff', 'label', 'words'],\n",
       "      dtype='object')"
      ]
     },
     "execution_count": 25,
     "metadata": {},
     "output_type": "execute_result"
    }
   ],
   "source": [
    "df.columns"
   ]
  },
  {
   "cell_type": "code",
   "execution_count": 26,
   "metadata": {},
   "outputs": [],
   "source": [
    "# standarize star rating\n",
    "from sklearn.preprocessing import StandardScaler\n",
    "\n",
    "scaler = StandardScaler()"
   ]
  },
  {
   "cell_type": "code",
   "execution_count": 27,
   "metadata": {},
   "outputs": [
    {
     "name": "stderr",
     "output_type": "stream",
     "text": [
      "/anaconda3/lib/python3.6/site-packages/sklearn/utils/validation.py:595: DataConversionWarning: Data with input dtype int64 was converted to float64 by StandardScaler.\n",
      "  warnings.warn(msg, DataConversionWarning)\n"
     ]
    },
    {
     "data": {
      "text/plain": [
       "StandardScaler(copy=True, with_mean=True, with_std=True)"
      ]
     },
     "execution_count": 27,
     "metadata": {},
     "output_type": "execute_result"
    }
   ],
   "source": [
    "df_cont = df[['retweet_count', 'favorite_count']]\n",
    "scaler.fit(df_cont.values)"
   ]
  },
  {
   "cell_type": "code",
   "execution_count": 28,
   "metadata": {},
   "outputs": [],
   "source": [
    "class BOW(Dataset):\n",
    "    def __init__(self, df, vocab2index, scaler):\n",
    "        self.words = df['words'].tolist()\n",
    "        self.df_cont = df[['retweet_count', 'favorite_count']]\n",
    "        self.df_cont = scaler.transform(self.df_cont.values)\n",
    "        self.y = df['label']\n",
    "        self.vocab2index = vocab2index\n",
    "        \n",
    "    def __len__(self):\n",
    "        return len(self.y)\n",
    "    \n",
    "    def __getitem__(self, idx):\n",
    "        x = self.words[idx]\n",
    "        x = bow(x, self.vocab2index)\n",
    "        return x, self.df_cont[idx], self.y[idx]"
   ]
  },
  {
   "cell_type": "code",
   "execution_count": 29,
   "metadata": {},
   "outputs": [
    {
     "name": "stderr",
     "output_type": "stream",
     "text": [
      "/anaconda3/lib/python3.6/site-packages/sklearn/utils/validation.py:595: DataConversionWarning: Data with input dtype int64 was converted to float64 by StandardScaler.\n",
      "  warnings.warn(msg, DataConversionWarning)\n",
      "/anaconda3/lib/python3.6/site-packages/sklearn/utils/validation.py:595: DataConversionWarning: Data with input dtype int64 was converted to float64 by StandardScaler.\n",
      "  warnings.warn(msg, DataConversionWarning)\n"
     ]
    }
   ],
   "source": [
    "train_ds = BOW(df_train, vocab2index, scaler)\n",
    "test_ds = BOW(df_test, vocab2index, scaler)"
   ]
  },
  {
   "cell_type": "code",
   "execution_count": 30,
   "metadata": {},
   "outputs": [
    {
     "data": {
      "text/plain": [
       "(array([0., 0., 0., ..., 0., 0., 0.]), array([-0.43412969, -0.50554216]), 1)"
      ]
     },
     "execution_count": 30,
     "metadata": {},
     "output_type": "execute_result"
    }
   ],
   "source": [
    "train_ds[0]"
   ]
  },
  {
   "cell_type": "code",
   "execution_count": 31,
   "metadata": {},
   "outputs": [],
   "source": [
    "batch_size = 500\n",
    "train_dl = DataLoader(train_ds, batch_size=batch_size, shuffle=True)\n",
    "test_dl = DataLoader(test_ds, batch_size=batch_size)"
   ]
  },
  {
   "cell_type": "markdown",
   "metadata": {},
   "source": [
    "## Model"
   ]
  },
  {
   "cell_type": "code",
   "execution_count": 123,
   "metadata": {},
   "outputs": [],
   "source": [
    "class BowModel(nn.Module):\n",
    "    def __init__(self, vocab_size):\n",
    "        super(BowModel, self).__init__()\n",
    "        self.input_size = vocab_size + 2\n",
    "        self.linear1 = nn.Linear(self.input_size, 50)\n",
    "        self.linear2 = nn.Linear(50, 1)  # binary\n",
    "        self.bn = nn.BatchNorm1d(50)\n",
    "        self.dropout = nn.Dropout(0.5)\n",
    "    \n",
    "    def forward(self, x_encoding, x_cont):\n",
    "        x = torch.cat((x_encoding, x_cont), 1) \n",
    "        x = self.linear1(x)\n",
    "        x = self.dropout(x)\n",
    "        x = F.relu(self.bn(x))\n",
    "        x = self.dropout(x)\n",
    "        x = self.linear2(x)\n",
    "        return x  "
   ]
  },
  {
   "cell_type": "code",
   "execution_count": 124,
   "metadata": {},
   "outputs": [],
   "source": [
    "x1, x2, y = next(iter(train_dl))\n",
    "x1 = x1.float()\n",
    "x2 = x2.float()\n",
    "y = y.float()"
   ]
  },
  {
   "cell_type": "code",
   "execution_count": 125,
   "metadata": {},
   "outputs": [],
   "source": [
    "model = BowModel(vocab_size)\n",
    "y_hat = model(x1, x2)"
   ]
  },
  {
   "cell_type": "code",
   "execution_count": 126,
   "metadata": {},
   "outputs": [
    {
     "data": {
      "text/plain": [
       "tensor(0.7001, grad_fn=<BinaryCrossEntropyWithLogitsBackward>)"
      ]
     },
     "execution_count": 126,
     "metadata": {},
     "output_type": "execute_result"
    }
   ],
   "source": [
    "F.binary_cross_entropy_with_logits(y_hat, y.unsqueeze(1))"
   ]
  },
  {
   "cell_type": "code",
   "execution_count": 127,
   "metadata": {},
   "outputs": [],
   "source": [
    "def val_metrics(model, test_dl):\n",
    "    model.eval()\n",
    "    correct = 0\n",
    "    total = 0\n",
    "    sum_loss = 0.0\n",
    "    for x1, x2, y in test_dl:\n",
    "        x1 = x1.float()\n",
    "        x2 = x2.float()\n",
    "        y = y.float().unsqueeze(1)\n",
    "        y_hat = model(x1, x2)\n",
    "        loss = F.binary_cross_entropy_with_logits(y_hat, y)\n",
    "        y_pred = y_hat > 0\n",
    "        correct += (y_pred.float() == y).float().sum()\n",
    "        total += y.shape[0]\n",
    "        sum_loss += loss.item()*y.shape[0]\n",
    "    return sum_loss/total, (correct/total).item()"
   ]
  },
  {
   "cell_type": "code",
   "execution_count": 128,
   "metadata": {},
   "outputs": [
    {
     "data": {
      "text/plain": [
       "(0.6932092845932512, 0.4886363744735718)"
      ]
     },
     "execution_count": 128,
     "metadata": {},
     "output_type": "execute_result"
    }
   ],
   "source": [
    "val_metrics(model, test_dl)"
   ]
  },
  {
   "cell_type": "markdown",
   "metadata": {},
   "source": [
    "## Train Loop"
   ]
  },
  {
   "cell_type": "code",
   "execution_count": 129,
   "metadata": {},
   "outputs": [],
   "source": [
    "def train_epocs(model, epochs=10, lr=0.001):\n",
    "    optimizer = torch.optim.Adam(model.parameters(), lr=lr)\n",
    "    for i in range(epochs):\n",
    "        model.train()\n",
    "        total = 0\n",
    "        loss_sum = 0\n",
    "        for x1, x2, y in train_dl:\n",
    "            y_hat = model(x1.float(), x2.float())\n",
    "            y = y.float().unsqueeze(1)\n",
    "            loss = F.binary_cross_entropy_with_logits(y_hat, y.float())\n",
    "            optimizer.zero_grad()\n",
    "            loss.backward()\n",
    "            optimizer.step()\n",
    "            total += y.shape[0]\n",
    "            loss_sum += loss.item()*y.shape[0]\n",
    "        val_loss, val_acc = val_metrics(model, test_dl)\n",
    "        print(\"train loss %.3f val loss %.3f and accuracy %.3f\" % (loss_sum/total, val_loss, val_acc))"
   ]
  },
  {
   "cell_type": "code",
   "execution_count": 130,
   "metadata": {},
   "outputs": [
    {
     "name": "stdout",
     "output_type": "stream",
     "text": [
      "train loss 0.698 val loss 0.693 and accuracy 0.518\n",
      "train loss 0.677 val loss 0.693 and accuracy 0.524\n",
      "train loss 0.659 val loss 0.695 and accuracy 0.513\n",
      "train loss 0.632 val loss 0.696 and accuracy 0.503\n",
      "train loss 0.593 val loss 0.701 and accuracy 0.505\n",
      "train loss 0.553 val loss 0.715 and accuracy 0.508\n",
      "train loss 0.502 val loss 0.739 and accuracy 0.505\n",
      "train loss 0.467 val loss 0.758 and accuracy 0.513\n",
      "train loss 0.439 val loss 0.813 and accuracy 0.518\n",
      "train loss 0.410 val loss 0.838 and accuracy 0.502\n"
     ]
    }
   ],
   "source": [
    "train_epocs(model, lr = 0.005, epochs = 10)"
   ]
  },
  {
   "cell_type": "code",
   "execution_count": 131,
   "metadata": {},
   "outputs": [
    {
     "name": "stdout",
     "output_type": "stream",
     "text": [
      "train loss 0.400 val loss 0.818 and accuracy 0.514\n",
      "train loss 0.381 val loss 0.823 and accuracy 0.514\n",
      "train loss 0.376 val loss 0.832 and accuracy 0.515\n",
      "train loss 0.348 val loss 0.841 and accuracy 0.520\n",
      "train loss 0.353 val loss 0.866 and accuracy 0.521\n"
     ]
    }
   ],
   "source": [
    "train_epocs(model, lr = 0.001, epochs = 5)"
   ]
  },
  {
   "cell_type": "code",
   "execution_count": null,
   "metadata": {},
   "outputs": [],
   "source": []
  }
 ],
 "metadata": {
  "kernelspec": {
   "display_name": "Python 3",
   "language": "python",
   "name": "python3"
  },
  "language_info": {
   "codemirror_mode": {
    "name": "ipython",
    "version": 3
   },
   "file_extension": ".py",
   "mimetype": "text/x-python",
   "name": "python",
   "nbconvert_exporter": "python",
   "pygments_lexer": "ipython3",
   "version": "3.6.8"
  }
 },
 "nbformat": 4,
 "nbformat_minor": 2
}
