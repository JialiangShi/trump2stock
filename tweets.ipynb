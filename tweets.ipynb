{
 "cells": [
  {
   "cell_type": "code",
   "execution_count": 1,
   "metadata": {},
   "outputs": [],
   "source": [
    "import pandas as pd"
   ]
  },
  {
   "cell_type": "code",
   "execution_count": 2,
   "metadata": {},
   "outputs": [],
   "source": [
    "tweets = pd.read_csv('tweets.csv')"
   ]
  },
  {
   "cell_type": "code",
   "execution_count": 3,
   "metadata": {},
   "outputs": [
    {
     "data": {
      "text/html": [
       "<div>\n",
       "<style scoped>\n",
       "    .dataframe tbody tr th:only-of-type {\n",
       "        vertical-align: middle;\n",
       "    }\n",
       "\n",
       "    .dataframe tbody tr th {\n",
       "        vertical-align: top;\n",
       "    }\n",
       "\n",
       "    .dataframe thead th {\n",
       "        text-align: right;\n",
       "    }\n",
       "</style>\n",
       "<table border=\"1\" class=\"dataframe\">\n",
       "  <thead>\n",
       "    <tr style=\"text-align: right;\">\n",
       "      <th></th>\n",
       "      <th>source</th>\n",
       "      <th>text</th>\n",
       "      <th>created_at</th>\n",
       "      <th>retweet_count</th>\n",
       "      <th>favorite_count</th>\n",
       "    </tr>\n",
       "  </thead>\n",
       "  <tbody>\n",
       "    <tr>\n",
       "      <th>0</th>\n",
       "      <td>Twitter for iPhone</td>\n",
       "      <td>I will be announcing my Second Term Presidenti...</td>\n",
       "      <td>05-31-2019 20:35:41</td>\n",
       "      <td>35248</td>\n",
       "      <td>128039</td>\n",
       "    </tr>\n",
       "    <tr>\n",
       "      <th>1</th>\n",
       "      <td>Twitter Media Studio</td>\n",
       "      <td>GREAT NEWS! #MAGA https://t.co/91Yk8B11bP</td>\n",
       "      <td>05-31-2019 20:02:16</td>\n",
       "      <td>20493</td>\n",
       "      <td>75339</td>\n",
       "    </tr>\n",
       "    <tr>\n",
       "      <th>2</th>\n",
       "      <td>Twitter for iPhone</td>\n",
       "      <td>As we celebrate LGBT Pride Month and recognize...</td>\n",
       "      <td>05-31-2019 19:12:32</td>\n",
       "      <td>28936</td>\n",
       "      <td>136614</td>\n",
       "    </tr>\n",
       "    <tr>\n",
       "      <th>3</th>\n",
       "      <td>Twitter for iPhone</td>\n",
       "      <td>....on the basis of their sexual orientation. ...</td>\n",
       "      <td>05-31-2019 19:12:32</td>\n",
       "      <td>20416</td>\n",
       "      <td>105421</td>\n",
       "    </tr>\n",
       "    <tr>\n",
       "      <th>4</th>\n",
       "      <td>Twitter for iPhone</td>\n",
       "      <td>.@SeanHannity is having a DEEP STATE SHOW toni...</td>\n",
       "      <td>05-31-2019 18:11:25</td>\n",
       "      <td>18257</td>\n",
       "      <td>65602</td>\n",
       "    </tr>\n",
       "  </tbody>\n",
       "</table>\n",
       "</div>"
      ],
      "text/plain": [
       "                 source                                               text  \\\n",
       "0    Twitter for iPhone  I will be announcing my Second Term Presidenti...   \n",
       "1  Twitter Media Studio          GREAT NEWS! #MAGA https://t.co/91Yk8B11bP   \n",
       "2    Twitter for iPhone  As we celebrate LGBT Pride Month and recognize...   \n",
       "3    Twitter for iPhone  ....on the basis of their sexual orientation. ...   \n",
       "4    Twitter for iPhone  .@SeanHannity is having a DEEP STATE SHOW toni...   \n",
       "\n",
       "            created_at  retweet_count  favorite_count  \n",
       "0  05-31-2019 20:35:41          35248          128039  \n",
       "1  05-31-2019 20:02:16          20493           75339  \n",
       "2  05-31-2019 19:12:32          28936          136614  \n",
       "3  05-31-2019 19:12:32          20416          105421  \n",
       "4  05-31-2019 18:11:25          18257           65602  "
      ]
     },
     "execution_count": 3,
     "metadata": {},
     "output_type": "execute_result"
    }
   ],
   "source": [
    "tweets.head()"
   ]
  },
  {
   "cell_type": "code",
   "execution_count": 4,
   "metadata": {},
   "outputs": [
    {
     "data": {
      "text/plain": [
       "6596"
      ]
     },
     "execution_count": 4,
     "metadata": {},
     "output_type": "execute_result"
    }
   ],
   "source": [
    "len(tweets)"
   ]
  },
  {
   "cell_type": "code",
   "execution_count": 5,
   "metadata": {},
   "outputs": [
    {
     "data": {
      "text/html": [
       "<div>\n",
       "<style scoped>\n",
       "    .dataframe tbody tr th:only-of-type {\n",
       "        vertical-align: middle;\n",
       "    }\n",
       "\n",
       "    .dataframe tbody tr th {\n",
       "        vertical-align: top;\n",
       "    }\n",
       "\n",
       "    .dataframe thead th {\n",
       "        text-align: right;\n",
       "    }\n",
       "</style>\n",
       "<table border=\"1\" class=\"dataframe\">\n",
       "  <thead>\n",
       "    <tr style=\"text-align: right;\">\n",
       "      <th></th>\n",
       "      <th>source</th>\n",
       "      <th>text</th>\n",
       "      <th>created_at</th>\n",
       "      <th>retweet_count</th>\n",
       "      <th>favorite_count</th>\n",
       "    </tr>\n",
       "  </thead>\n",
       "  <tbody>\n",
       "    <tr>\n",
       "      <th>6591</th>\n",
       "      <td>Twitter for Android</td>\n",
       "      <td>I thought and felt I would win big easily over...</td>\n",
       "      <td>01-02-2017 18:44:04</td>\n",
       "      <td>13437</td>\n",
       "      <td>62670</td>\n",
       "    </tr>\n",
       "    <tr>\n",
       "      <th>6592</th>\n",
       "      <td>Twitter for Android</td>\n",
       "      <td>Various media outlets and pundits say that I t...</td>\n",
       "      <td>01-02-2017 18:37:10</td>\n",
       "      <td>9057</td>\n",
       "      <td>47285</td>\n",
       "    </tr>\n",
       "    <tr>\n",
       "      <th>6593</th>\n",
       "      <td>Twitter for Android</td>\n",
       "      <td>@CNN just released a book called \"Unprecedente...</td>\n",
       "      <td>01-02-2017 18:32:29</td>\n",
       "      <td>3948</td>\n",
       "      <td>13862</td>\n",
       "    </tr>\n",
       "    <tr>\n",
       "      <th>6594</th>\n",
       "      <td>Twitter for Android</td>\n",
       "      <td>Chicago murder rate is record setting - 4331 s...</td>\n",
       "      <td>01-02-2017 17:31:17</td>\n",
       "      <td>17411</td>\n",
       "      <td>63340</td>\n",
       "    </tr>\n",
       "    <tr>\n",
       "      <th>6595</th>\n",
       "      <td>Twitter for Android</td>\n",
       "      <td>Well the New Year begins. We will together MAK...</td>\n",
       "      <td>01-02-2017 14:40:10</td>\n",
       "      <td>29248</td>\n",
       "      <td>124024</td>\n",
       "    </tr>\n",
       "  </tbody>\n",
       "</table>\n",
       "</div>"
      ],
      "text/plain": [
       "                   source                                               text  \\\n",
       "6591  Twitter for Android  I thought and felt I would win big easily over...   \n",
       "6592  Twitter for Android  Various media outlets and pundits say that I t...   \n",
       "6593  Twitter for Android  @CNN just released a book called \"Unprecedente...   \n",
       "6594  Twitter for Android  Chicago murder rate is record setting - 4331 s...   \n",
       "6595  Twitter for Android  Well the New Year begins. We will together MAK...   \n",
       "\n",
       "               created_at  retweet_count  favorite_count  \n",
       "6591  01-02-2017 18:44:04          13437           62670  \n",
       "6592  01-02-2017 18:37:10           9057           47285  \n",
       "6593  01-02-2017 18:32:29           3948           13862  \n",
       "6594  01-02-2017 17:31:17          17411           63340  \n",
       "6595  01-02-2017 14:40:10          29248          124024  "
      ]
     },
     "execution_count": 5,
     "metadata": {},
     "output_type": "execute_result"
    }
   ],
   "source": [
    "tweets.tail()"
   ]
  },
  {
   "cell_type": "code",
   "execution_count": 6,
   "metadata": {},
   "outputs": [
    {
     "data": {
      "text/plain": [
       "Twitter for iPhone      6008\n",
       "Twitter for Android      274\n",
       "Media Studio             149\n",
       "Twitter Web Client        54\n",
       "Twitter Media Studio      43\n",
       "Twitter for iPad          35\n",
       "Twitter Ads               33\n",
       "Name: source, dtype: int64"
      ]
     },
     "execution_count": 6,
     "metadata": {},
     "output_type": "execute_result"
    }
   ],
   "source": [
    "tweets['source'].value_counts()"
   ]
  },
  {
   "cell_type": "code",
   "execution_count": null,
   "metadata": {},
   "outputs": [],
   "source": []
  }
 ],
 "metadata": {
  "kernelspec": {
   "display_name": "Python 3",
   "language": "python",
   "name": "python3"
  },
  "language_info": {
   "codemirror_mode": {
    "name": "ipython",
    "version": 3
   },
   "file_extension": ".py",
   "mimetype": "text/x-python",
   "name": "python",
   "nbconvert_exporter": "python",
   "pygments_lexer": "ipython3",
   "version": "3.6.8"
  }
 },
 "nbformat": 4,
 "nbformat_minor": 2
}
