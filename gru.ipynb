{
 "cells": [
  {
   "cell_type": "code",
   "execution_count": 1,
   "metadata": {},
   "outputs": [],
   "source": [
    "import numpy as np \n",
    "import pandas as pd \n",
    "import os\n",
    "import spacy\n",
    "import string\n",
    "import re\n",
    "from spacy.symbols import ORTH\n",
    "from collections import Counter\n",
    "\n",
    "import torch\n",
    "import torch.nn as nn\n",
    "import torch.nn.functional as F\n",
    "from torch.utils.data import Dataset, DataLoader\n",
    "from torch.nn.utils.rnn import pack_padded_sequence, pad_packed_sequence"
   ]
  },
  {
   "cell_type": "markdown",
   "metadata": {},
   "source": [
    "## Load file"
   ]
  },
  {
   "cell_type": "code",
   "execution_count": 2,
   "metadata": {},
   "outputs": [],
   "source": [
    "df = pd.read_csv('data.csv')"
   ]
  },
  {
   "cell_type": "code",
   "execution_count": 3,
   "metadata": {},
   "outputs": [
    {
     "data": {
      "text/html": [
       "<div>\n",
       "<style scoped>\n",
       "    .dataframe tbody tr th:only-of-type {\n",
       "        vertical-align: middle;\n",
       "    }\n",
       "\n",
       "    .dataframe tbody tr th {\n",
       "        vertical-align: top;\n",
       "    }\n",
       "\n",
       "    .dataframe thead th {\n",
       "        text-align: right;\n",
       "    }\n",
       "</style>\n",
       "<table border=\"1\" class=\"dataframe\">\n",
       "  <thead>\n",
       "    <tr style=\"text-align: right;\">\n",
       "      <th></th>\n",
       "      <th>source</th>\n",
       "      <th>text</th>\n",
       "      <th>created_at</th>\n",
       "      <th>retweet_count</th>\n",
       "      <th>favorite_count</th>\n",
       "      <th>time</th>\n",
       "      <th>date</th>\n",
       "      <th>Date</th>\n",
       "      <th>Open</th>\n",
       "      <th>High</th>\n",
       "      <th>Low</th>\n",
       "      <th>Close</th>\n",
       "      <th>Adj Close</th>\n",
       "      <th>Volume</th>\n",
       "      <th>diff</th>\n",
       "      <th>label</th>\n",
       "    </tr>\n",
       "  </thead>\n",
       "  <tbody>\n",
       "    <tr>\n",
       "      <th>0</th>\n",
       "      <td>Twitter for iPhone</td>\n",
       "      <td>I will be announcing my Second Term Presidenti...</td>\n",
       "      <td>05-31-2019 20:35:41</td>\n",
       "      <td>35248</td>\n",
       "      <td>128039</td>\n",
       "      <td>2019-05-31 20:35:41</td>\n",
       "      <td>2019-05-31</td>\n",
       "      <td>2019-05-31</td>\n",
       "      <td>2766.149902</td>\n",
       "      <td>2768.97998</td>\n",
       "      <td>2750.52002</td>\n",
       "      <td>2752.060059</td>\n",
       "      <td>2752.060059</td>\n",
       "      <td>3981020000</td>\n",
       "      <td>-14.089843</td>\n",
       "      <td>0</td>\n",
       "    </tr>\n",
       "    <tr>\n",
       "      <th>1</th>\n",
       "      <td>Twitter Media Studio</td>\n",
       "      <td>GREAT NEWS! #MAGA https://t.co/91Yk8B11bP</td>\n",
       "      <td>05-31-2019 20:02:16</td>\n",
       "      <td>20493</td>\n",
       "      <td>75339</td>\n",
       "      <td>2019-05-31 20:02:16</td>\n",
       "      <td>2019-05-31</td>\n",
       "      <td>2019-05-31</td>\n",
       "      <td>2766.149902</td>\n",
       "      <td>2768.97998</td>\n",
       "      <td>2750.52002</td>\n",
       "      <td>2752.060059</td>\n",
       "      <td>2752.060059</td>\n",
       "      <td>3981020000</td>\n",
       "      <td>-14.089843</td>\n",
       "      <td>0</td>\n",
       "    </tr>\n",
       "    <tr>\n",
       "      <th>2</th>\n",
       "      <td>Twitter for iPhone</td>\n",
       "      <td>As we celebrate LGBT Pride Month and recognize...</td>\n",
       "      <td>05-31-2019 19:12:32</td>\n",
       "      <td>28936</td>\n",
       "      <td>136614</td>\n",
       "      <td>2019-05-31 19:12:32</td>\n",
       "      <td>2019-05-31</td>\n",
       "      <td>2019-05-31</td>\n",
       "      <td>2766.149902</td>\n",
       "      <td>2768.97998</td>\n",
       "      <td>2750.52002</td>\n",
       "      <td>2752.060059</td>\n",
       "      <td>2752.060059</td>\n",
       "      <td>3981020000</td>\n",
       "      <td>-14.089843</td>\n",
       "      <td>0</td>\n",
       "    </tr>\n",
       "    <tr>\n",
       "      <th>3</th>\n",
       "      <td>Twitter for iPhone</td>\n",
       "      <td>....on the basis of their sexual orientation. ...</td>\n",
       "      <td>05-31-2019 19:12:32</td>\n",
       "      <td>20416</td>\n",
       "      <td>105421</td>\n",
       "      <td>2019-05-31 19:12:32</td>\n",
       "      <td>2019-05-31</td>\n",
       "      <td>2019-05-31</td>\n",
       "      <td>2766.149902</td>\n",
       "      <td>2768.97998</td>\n",
       "      <td>2750.52002</td>\n",
       "      <td>2752.060059</td>\n",
       "      <td>2752.060059</td>\n",
       "      <td>3981020000</td>\n",
       "      <td>-14.089843</td>\n",
       "      <td>0</td>\n",
       "    </tr>\n",
       "    <tr>\n",
       "      <th>4</th>\n",
       "      <td>Twitter for iPhone</td>\n",
       "      <td>.@SeanHannity is having a DEEP STATE SHOW toni...</td>\n",
       "      <td>05-31-2019 18:11:25</td>\n",
       "      <td>18257</td>\n",
       "      <td>65602</td>\n",
       "      <td>2019-05-31 18:11:25</td>\n",
       "      <td>2019-05-31</td>\n",
       "      <td>2019-05-31</td>\n",
       "      <td>2766.149902</td>\n",
       "      <td>2768.97998</td>\n",
       "      <td>2750.52002</td>\n",
       "      <td>2752.060059</td>\n",
       "      <td>2752.060059</td>\n",
       "      <td>3981020000</td>\n",
       "      <td>-14.089843</td>\n",
       "      <td>0</td>\n",
       "    </tr>\n",
       "  </tbody>\n",
       "</table>\n",
       "</div>"
      ],
      "text/plain": [
       "                 source                                               text  \\\n",
       "0    Twitter for iPhone  I will be announcing my Second Term Presidenti...   \n",
       "1  Twitter Media Studio          GREAT NEWS! #MAGA https://t.co/91Yk8B11bP   \n",
       "2    Twitter for iPhone  As we celebrate LGBT Pride Month and recognize...   \n",
       "3    Twitter for iPhone  ....on the basis of their sexual orientation. ...   \n",
       "4    Twitter for iPhone  .@SeanHannity is having a DEEP STATE SHOW toni...   \n",
       "\n",
       "            created_at  retweet_count  favorite_count                 time  \\\n",
       "0  05-31-2019 20:35:41          35248          128039  2019-05-31 20:35:41   \n",
       "1  05-31-2019 20:02:16          20493           75339  2019-05-31 20:02:16   \n",
       "2  05-31-2019 19:12:32          28936          136614  2019-05-31 19:12:32   \n",
       "3  05-31-2019 19:12:32          20416          105421  2019-05-31 19:12:32   \n",
       "4  05-31-2019 18:11:25          18257           65602  2019-05-31 18:11:25   \n",
       "\n",
       "         date        Date         Open        High         Low        Close  \\\n",
       "0  2019-05-31  2019-05-31  2766.149902  2768.97998  2750.52002  2752.060059   \n",
       "1  2019-05-31  2019-05-31  2766.149902  2768.97998  2750.52002  2752.060059   \n",
       "2  2019-05-31  2019-05-31  2766.149902  2768.97998  2750.52002  2752.060059   \n",
       "3  2019-05-31  2019-05-31  2766.149902  2768.97998  2750.52002  2752.060059   \n",
       "4  2019-05-31  2019-05-31  2766.149902  2768.97998  2750.52002  2752.060059   \n",
       "\n",
       "     Adj Close      Volume       diff  label  \n",
       "0  2752.060059  3981020000 -14.089843      0  \n",
       "1  2752.060059  3981020000 -14.089843      0  \n",
       "2  2752.060059  3981020000 -14.089843      0  \n",
       "3  2752.060059  3981020000 -14.089843      0  \n",
       "4  2752.060059  3981020000 -14.089843      0  "
      ]
     },
     "execution_count": 3,
     "metadata": {},
     "output_type": "execute_result"
    }
   ],
   "source": [
    "df.head()"
   ]
  },
  {
   "cell_type": "markdown",
   "metadata": {},
   "source": [
    "## Tokenization"
   ]
  },
  {
   "cell_type": "code",
   "execution_count": 4,
   "metadata": {},
   "outputs": [],
   "source": [
    "# first time run this\n",
    "#!python3 -m spacy download en"
   ]
  },
  {
   "cell_type": "code",
   "execution_count": 5,
   "metadata": {},
   "outputs": [],
   "source": [
    "re_br = re.compile(r'<\\s*br\\s*/?>', re.IGNORECASE)\n",
    "def sub_br(x): return re_br.sub(\"\\n\", x)\n",
    "\n",
    "my_tok = spacy.load('en')\n",
    "def spacy_tok(x): return [tok.text.lower() for tok in my_tok.tokenizer(sub_br(x))]"
   ]
  },
  {
   "cell_type": "code",
   "execution_count": 6,
   "metadata": {},
   "outputs": [
    {
     "data": {
      "text/plain": [
       "['great', 'news', '!', '#', 'maga', 'https://t.co/91yk8b11bp']"
      ]
     },
     "execution_count": 6,
     "metadata": {},
     "output_type": "execute_result"
    }
   ],
   "source": [
    "x = df.loc[1, 'text']\n",
    "spacy_tok(x)"
   ]
  },
  {
   "cell_type": "code",
   "execution_count": 7,
   "metadata": {},
   "outputs": [],
   "source": [
    "df['words'] = df['text'].apply(spacy_tok)"
   ]
  },
  {
   "cell_type": "code",
   "execution_count": 8,
   "metadata": {},
   "outputs": [
    {
     "data": {
      "text/html": [
       "<div>\n",
       "<style scoped>\n",
       "    .dataframe tbody tr th:only-of-type {\n",
       "        vertical-align: middle;\n",
       "    }\n",
       "\n",
       "    .dataframe tbody tr th {\n",
       "        vertical-align: top;\n",
       "    }\n",
       "\n",
       "    .dataframe thead th {\n",
       "        text-align: right;\n",
       "    }\n",
       "</style>\n",
       "<table border=\"1\" class=\"dataframe\">\n",
       "  <thead>\n",
       "    <tr style=\"text-align: right;\">\n",
       "      <th></th>\n",
       "      <th>source</th>\n",
       "      <th>text</th>\n",
       "      <th>created_at</th>\n",
       "      <th>retweet_count</th>\n",
       "      <th>favorite_count</th>\n",
       "      <th>time</th>\n",
       "      <th>date</th>\n",
       "      <th>Date</th>\n",
       "      <th>Open</th>\n",
       "      <th>High</th>\n",
       "      <th>Low</th>\n",
       "      <th>Close</th>\n",
       "      <th>Adj Close</th>\n",
       "      <th>Volume</th>\n",
       "      <th>diff</th>\n",
       "      <th>label</th>\n",
       "      <th>words</th>\n",
       "    </tr>\n",
       "  </thead>\n",
       "  <tbody>\n",
       "    <tr>\n",
       "      <th>0</th>\n",
       "      <td>Twitter for iPhone</td>\n",
       "      <td>I will be announcing my Second Term Presidenti...</td>\n",
       "      <td>05-31-2019 20:35:41</td>\n",
       "      <td>35248</td>\n",
       "      <td>128039</td>\n",
       "      <td>2019-05-31 20:35:41</td>\n",
       "      <td>2019-05-31</td>\n",
       "      <td>2019-05-31</td>\n",
       "      <td>2766.149902</td>\n",
       "      <td>2768.97998</td>\n",
       "      <td>2750.52002</td>\n",
       "      <td>2752.060059</td>\n",
       "      <td>2752.060059</td>\n",
       "      <td>3981020000</td>\n",
       "      <td>-14.089843</td>\n",
       "      <td>0</td>\n",
       "      <td>[i, will, be, announcing, my, second, term, pr...</td>\n",
       "    </tr>\n",
       "    <tr>\n",
       "      <th>1</th>\n",
       "      <td>Twitter Media Studio</td>\n",
       "      <td>GREAT NEWS! #MAGA https://t.co/91Yk8B11bP</td>\n",
       "      <td>05-31-2019 20:02:16</td>\n",
       "      <td>20493</td>\n",
       "      <td>75339</td>\n",
       "      <td>2019-05-31 20:02:16</td>\n",
       "      <td>2019-05-31</td>\n",
       "      <td>2019-05-31</td>\n",
       "      <td>2766.149902</td>\n",
       "      <td>2768.97998</td>\n",
       "      <td>2750.52002</td>\n",
       "      <td>2752.060059</td>\n",
       "      <td>2752.060059</td>\n",
       "      <td>3981020000</td>\n",
       "      <td>-14.089843</td>\n",
       "      <td>0</td>\n",
       "      <td>[great, news, !, #, maga, https://t.co/91yk8b1...</td>\n",
       "    </tr>\n",
       "    <tr>\n",
       "      <th>2</th>\n",
       "      <td>Twitter for iPhone</td>\n",
       "      <td>As we celebrate LGBT Pride Month and recognize...</td>\n",
       "      <td>05-31-2019 19:12:32</td>\n",
       "      <td>28936</td>\n",
       "      <td>136614</td>\n",
       "      <td>2019-05-31 19:12:32</td>\n",
       "      <td>2019-05-31</td>\n",
       "      <td>2019-05-31</td>\n",
       "      <td>2766.149902</td>\n",
       "      <td>2768.97998</td>\n",
       "      <td>2750.52002</td>\n",
       "      <td>2752.060059</td>\n",
       "      <td>2752.060059</td>\n",
       "      <td>3981020000</td>\n",
       "      <td>-14.089843</td>\n",
       "      <td>0</td>\n",
       "      <td>[as, we, celebrate, lgbt, pride, month, and, r...</td>\n",
       "    </tr>\n",
       "    <tr>\n",
       "      <th>3</th>\n",
       "      <td>Twitter for iPhone</td>\n",
       "      <td>....on the basis of their sexual orientation. ...</td>\n",
       "      <td>05-31-2019 19:12:32</td>\n",
       "      <td>20416</td>\n",
       "      <td>105421</td>\n",
       "      <td>2019-05-31 19:12:32</td>\n",
       "      <td>2019-05-31</td>\n",
       "      <td>2019-05-31</td>\n",
       "      <td>2766.149902</td>\n",
       "      <td>2768.97998</td>\n",
       "      <td>2750.52002</td>\n",
       "      <td>2752.060059</td>\n",
       "      <td>2752.060059</td>\n",
       "      <td>3981020000</td>\n",
       "      <td>-14.089843</td>\n",
       "      <td>0</td>\n",
       "      <td>[...., on, the, basis, of, their, sexual, orie...</td>\n",
       "    </tr>\n",
       "    <tr>\n",
       "      <th>4</th>\n",
       "      <td>Twitter for iPhone</td>\n",
       "      <td>.@SeanHannity is having a DEEP STATE SHOW toni...</td>\n",
       "      <td>05-31-2019 18:11:25</td>\n",
       "      <td>18257</td>\n",
       "      <td>65602</td>\n",
       "      <td>2019-05-31 18:11:25</td>\n",
       "      <td>2019-05-31</td>\n",
       "      <td>2019-05-31</td>\n",
       "      <td>2766.149902</td>\n",
       "      <td>2768.97998</td>\n",
       "      <td>2750.52002</td>\n",
       "      <td>2752.060059</td>\n",
       "      <td>2752.060059</td>\n",
       "      <td>3981020000</td>\n",
       "      <td>-14.089843</td>\n",
       "      <td>0</td>\n",
       "      <td>[.@seanhannity, is, having, a, deep, state, sh...</td>\n",
       "    </tr>\n",
       "  </tbody>\n",
       "</table>\n",
       "</div>"
      ],
      "text/plain": [
       "                 source                                               text  \\\n",
       "0    Twitter for iPhone  I will be announcing my Second Term Presidenti...   \n",
       "1  Twitter Media Studio          GREAT NEWS! #MAGA https://t.co/91Yk8B11bP   \n",
       "2    Twitter for iPhone  As we celebrate LGBT Pride Month and recognize...   \n",
       "3    Twitter for iPhone  ....on the basis of their sexual orientation. ...   \n",
       "4    Twitter for iPhone  .@SeanHannity is having a DEEP STATE SHOW toni...   \n",
       "\n",
       "            created_at  retweet_count  favorite_count                 time  \\\n",
       "0  05-31-2019 20:35:41          35248          128039  2019-05-31 20:35:41   \n",
       "1  05-31-2019 20:02:16          20493           75339  2019-05-31 20:02:16   \n",
       "2  05-31-2019 19:12:32          28936          136614  2019-05-31 19:12:32   \n",
       "3  05-31-2019 19:12:32          20416          105421  2019-05-31 19:12:32   \n",
       "4  05-31-2019 18:11:25          18257           65602  2019-05-31 18:11:25   \n",
       "\n",
       "         date        Date         Open        High         Low        Close  \\\n",
       "0  2019-05-31  2019-05-31  2766.149902  2768.97998  2750.52002  2752.060059   \n",
       "1  2019-05-31  2019-05-31  2766.149902  2768.97998  2750.52002  2752.060059   \n",
       "2  2019-05-31  2019-05-31  2766.149902  2768.97998  2750.52002  2752.060059   \n",
       "3  2019-05-31  2019-05-31  2766.149902  2768.97998  2750.52002  2752.060059   \n",
       "4  2019-05-31  2019-05-31  2766.149902  2768.97998  2750.52002  2752.060059   \n",
       "\n",
       "     Adj Close      Volume       diff  label  \\\n",
       "0  2752.060059  3981020000 -14.089843      0   \n",
       "1  2752.060059  3981020000 -14.089843      0   \n",
       "2  2752.060059  3981020000 -14.089843      0   \n",
       "3  2752.060059  3981020000 -14.089843      0   \n",
       "4  2752.060059  3981020000 -14.089843      0   \n",
       "\n",
       "                                               words  \n",
       "0  [i, will, be, announcing, my, second, term, pr...  \n",
       "1  [great, news, !, #, maga, https://t.co/91yk8b1...  \n",
       "2  [as, we, celebrate, lgbt, pride, month, and, r...  \n",
       "3  [...., on, the, basis, of, their, sexual, orie...  \n",
       "4  [.@seanhannity, is, having, a, deep, state, sh...  "
      ]
     },
     "execution_count": 8,
     "metadata": {},
     "output_type": "execute_result"
    }
   ],
   "source": [
    "df.head()"
   ]
  },
  {
   "cell_type": "code",
   "execution_count": 9,
   "metadata": {},
   "outputs": [],
   "source": [
    "tweet_length = df['words'].apply(len).tolist()"
   ]
  },
  {
   "cell_type": "code",
   "execution_count": 10,
   "metadata": {},
   "outputs": [
    {
     "data": {
      "text/plain": [
       "[45, 6, 45, 30, 36, 51, 61, 55, 49, 34]"
      ]
     },
     "execution_count": 10,
     "metadata": {},
     "output_type": "execute_result"
    }
   ],
   "source": [
    "tweet_length[:10]"
   ]
  },
  {
   "cell_type": "code",
   "execution_count": 11,
   "metadata": {},
   "outputs": [
    {
     "data": {
      "text/plain": [
       "29.0"
      ]
     },
     "execution_count": 11,
     "metadata": {},
     "output_type": "execute_result"
    }
   ],
   "source": [
    "np.percentile(tweet_length, 50)"
   ]
  },
  {
   "cell_type": "code",
   "execution_count": 12,
   "metadata": {},
   "outputs": [
    {
     "data": {
      "text/plain": [
       "51.0"
      ]
     },
     "execution_count": 12,
     "metadata": {},
     "output_type": "execute_result"
    }
   ],
   "source": [
    "np.percentile(tweet_length, 80)"
   ]
  },
  {
   "cell_type": "code",
   "execution_count": 13,
   "metadata": {},
   "outputs": [
    {
     "data": {
      "text/plain": [
       "55.0"
      ]
     },
     "execution_count": 13,
     "metadata": {},
     "output_type": "execute_result"
    }
   ],
   "source": [
    "np.percentile(tweet_length, 90)"
   ]
  },
  {
   "cell_type": "markdown",
   "metadata": {},
   "source": [
    "+ 90% of tweets have less than 51 words, therfore we choose 50 as our padding size"
   ]
  },
  {
   "cell_type": "markdown",
   "metadata": {},
   "source": [
    "## Load pre-trained embeddings"
   ]
  },
  {
   "cell_type": "code",
   "execution_count": 14,
   "metadata": {},
   "outputs": [],
   "source": [
    "def loadGloveModel(gloveFile=\"/Users/jialiang.shi/data/glove.6B/glove.6B.100d.txt\"):\n",
    "    \"\"\" Loads word vectors into a dictionary.\"\"\"\n",
    "    f = open(gloveFile,'r')\n",
    "    word_vecs = {}\n",
    "    for line in f:\n",
    "        splitLine = line.split()\n",
    "        word = splitLine[0]\n",
    "        word_vecs[word] = np.array([float(val) for val in splitLine[1:]])\n",
    "    f.close()\n",
    "    return word_vecs"
   ]
  },
  {
   "cell_type": "code",
   "execution_count": 15,
   "metadata": {},
   "outputs": [],
   "source": [
    "word_vecs = loadGloveModel()"
   ]
  },
  {
   "cell_type": "code",
   "execution_count": 16,
   "metadata": {},
   "outputs": [
    {
     "data": {
      "text/plain": [
       "400000"
      ]
     },
     "execution_count": 16,
     "metadata": {},
     "output_type": "execute_result"
    }
   ],
   "source": [
    "len(word_vecs.keys())"
   ]
  },
  {
   "cell_type": "code",
   "execution_count": 17,
   "metadata": {},
   "outputs": [
    {
     "data": {
      "text/plain": [
       "array([-0.10767  ,  0.11053  ,  0.59812  , -0.54361  ,  0.67396  ,\n",
       "        0.10663  ,  0.038867 ,  0.35481  ,  0.06351  , -0.094189 ,\n",
       "        0.15786  , -0.81665  ,  0.14172  ,  0.21939  ,  0.58505  ,\n",
       "       -0.52158  ,  0.22783  , -0.16642  , -0.68228  ,  0.3587   ,\n",
       "        0.42568  ,  0.19021  ,  0.91963  ,  0.57555  ,  0.46185  ,\n",
       "        0.42363  , -0.095399 , -0.42749  , -0.16567  , -0.056842 ,\n",
       "       -0.29595  ,  0.26037  , -0.26606  , -0.070404 , -0.27662  ,\n",
       "        0.15821  ,  0.69825  ,  0.43081  ,  0.27952  , -0.45437  ,\n",
       "       -0.33801  , -0.58184  ,  0.22364  , -0.5778   , -0.26862  ,\n",
       "       -0.20425  ,  0.56394  , -0.58524  , -0.14365  , -0.64218  ,\n",
       "        0.0054697, -0.35248  ,  0.16162  ,  1.1796   , -0.47674  ,\n",
       "       -2.7553   , -0.1321   , -0.047729 ,  1.0655   ,  1.1034   ,\n",
       "       -0.2208   ,  0.18669  ,  0.13177  ,  0.15117  ,  0.7131   ,\n",
       "       -0.35215  ,  0.91348  ,  0.61783  ,  0.70992  ,  0.23955  ,\n",
       "       -0.14571  , -0.37859  , -0.045959 , -0.47368  ,  0.2385   ,\n",
       "        0.20536  , -0.18996  ,  0.32507  , -1.1112   , -0.36341  ,\n",
       "        0.98679  , -0.084776 , -0.54008  ,  0.11726  , -1.0194   ,\n",
       "       -0.24424  ,  0.12771  ,  0.013884 ,  0.080374 , -0.35414  ,\n",
       "        0.34951  , -0.7226   ,  0.37549  ,  0.4441   , -0.99059  ,\n",
       "        0.61214  , -0.35111  , -0.83155  ,  0.45293  ,  0.082577 ])"
      ]
     },
     "execution_count": 17,
     "metadata": {},
     "output_type": "execute_result"
    }
   ],
   "source": [
    "word_vecs[',']"
   ]
  },
  {
   "cell_type": "markdown",
   "metadata": {},
   "source": [
    "## Generate Vocab"
   ]
  },
  {
   "cell_type": "code",
   "execution_count": 31,
   "metadata": {},
   "outputs": [],
   "source": [
    "df_words = df['words'].tolist()"
   ]
  },
  {
   "cell_type": "code",
   "execution_count": 32,
   "metadata": {},
   "outputs": [],
   "source": [
    "import itertools\n",
    "\n",
    "ws = list(itertools.chain(*df_words))"
   ]
  },
  {
   "cell_type": "code",
   "execution_count": 33,
   "metadata": {},
   "outputs": [
    {
     "data": {
      "text/plain": [
       "170020"
      ]
     },
     "execution_count": 33,
     "metadata": {},
     "output_type": "execute_result"
    }
   ],
   "source": [
    "len(ws)"
   ]
  },
  {
   "cell_type": "code",
   "execution_count": 34,
   "metadata": {},
   "outputs": [],
   "source": [
    "word_count = Counter()\n",
    "word_count.update(ws)"
   ]
  },
  {
   "cell_type": "code",
   "execution_count": 35,
   "metadata": {},
   "outputs": [
    {
     "data": {
      "text/plain": [
       "11961"
      ]
     },
     "execution_count": 35,
     "metadata": {},
     "output_type": "execute_result"
    }
   ],
   "source": [
    "len(word_count)"
   ]
  },
  {
   "cell_type": "code",
   "execution_count": 36,
   "metadata": {},
   "outputs": [],
   "source": [
    "# delete if occurs < 5 times and it is not in our pretrained embeddings\n",
    "for word in list(word_count):\n",
    "    if word_count[word] < 5 and word not in word_vecs:\n",
    "        del word_count[word]"
   ]
  },
  {
   "cell_type": "code",
   "execution_count": 37,
   "metadata": {},
   "outputs": [
    {
     "data": {
      "text/plain": [
       "8684"
      ]
     },
     "execution_count": 37,
     "metadata": {},
     "output_type": "execute_result"
    }
   ],
   "source": [
    "len(word_count)"
   ]
  },
  {
   "cell_type": "code",
   "execution_count": 38,
   "metadata": {},
   "outputs": [],
   "source": [
    "vocab2index = {\"\":0, \"UNK\":1}\n",
    "words = [\"\", \"UNK\"]\n",
    "for word in word_count.keys():\n",
    "    vocab2index[word] = len(words)\n",
    "    words.append(word)"
   ]
  },
  {
   "cell_type": "code",
   "execution_count": 39,
   "metadata": {},
   "outputs": [
    {
     "data": {
      "text/plain": [
       "8686"
      ]
     },
     "execution_count": 39,
     "metadata": {},
     "output_type": "execute_result"
    }
   ],
   "source": [
    "len(words)"
   ]
  },
  {
   "cell_type": "markdown",
   "metadata": {},
   "source": [
    "+ There are 8686 words in our vocabulary"
   ]
  },
  {
   "cell_type": "markdown",
   "metadata": {},
   "source": [
    "## Pre-trained weights for the embedding layer"
   ]
  },
  {
   "cell_type": "code",
   "execution_count": 40,
   "metadata": {},
   "outputs": [],
   "source": [
    "def random_word_vector(D=100):\n",
    "    \"\"\"Create arandom word vector\n",
    "    \n",
    "    0.25 is chosen so the unknown vectors have (approximately) same variance \n",
    "    as pre-trained ones\n",
    "    \"\"\"\n",
    "    return np.random.uniform(-0.25,0.25,D)"
   ]
  },
  {
   "cell_type": "code",
   "execution_count": 41,
   "metadata": {},
   "outputs": [],
   "source": [
    "def create_embedding_matrix(word_vecs, vocab2index, words, D=100):\n",
    "    \"\"\"Creates embedding matrix from word vectors. \"\"\"\n",
    "    V = len(words)\n",
    "    W = np.zeros((V, D), dtype=\"float32\")\n",
    "    W[0] = np.zeros(D, dtype='float32')\n",
    "    i = 1\n",
    "    for i in range(1, V):\n",
    "        if words[i] in word_vecs:\n",
    "            W[i] = word_vecs[words[i]]\n",
    "        else:\n",
    "            W[i] = random_word_vector()\n",
    "    return W"
   ]
  },
  {
   "cell_type": "code",
   "execution_count": 42,
   "metadata": {},
   "outputs": [
    {
     "data": {
      "text/plain": [
       "(8686, 100)"
      ]
     },
     "execution_count": 42,
     "metadata": {},
     "output_type": "execute_result"
    }
   ],
   "source": [
    "embedding_matrix = create_embedding_matrix(word_vecs, vocab2index, words)\n",
    "embedding_matrix.shape"
   ]
  },
  {
   "cell_type": "markdown",
   "metadata": {},
   "source": [
    "## Dataset"
   ]
  },
  {
   "cell_type": "code",
   "execution_count": 58,
   "metadata": {},
   "outputs": [],
   "source": [
    "def encode_sentence(sentence, vocab2index, N=50, padding_start=True):\n",
    "    x = spacy_tok(sentence)\n",
    "    enc = np.zeros(N, dtype=np.int32)\n",
    "    enc1 = np.array([vocab2index.get(w, vocab2index[\"UNK\"]) for w in x])\n",
    "    l = min(N, len(enc1))\n",
    "    if padding_start:\n",
    "        enc[:l] = enc1[:l]\n",
    "    else:\n",
    "        enc[N-l:] = enc1[:l]\n",
    "    return enc, l"
   ]
  },
  {
   "cell_type": "code",
   "execution_count": 59,
   "metadata": {},
   "outputs": [
    {
     "data": {
      "text/plain": [
       "'I will be announcing my Second Term Presidential Run with First Lady Melania Vice President Mike Pence and Second Lady Karen Pence on June 18th in Orlando Florida at the 20000 seat Amway Center. Join us for this Historic Rally! Tickets: https://t.co/1krDP2oQvG'"
      ]
     },
     "execution_count": 59,
     "metadata": {},
     "output_type": "execute_result"
    }
   ],
   "source": [
    "sample = df.loc[0,'text']\n",
    "sample"
   ]
  },
  {
   "cell_type": "code",
   "execution_count": 60,
   "metadata": {},
   "outputs": [
    {
     "data": {
      "text/plain": [
       "(array([ 2,  3,  4,  5,  6,  7,  8,  9, 10, 11, 12, 13, 14, 15, 16, 17, 18,\n",
       "        19,  7, 13, 20, 18, 21, 22, 23, 24, 25, 26, 27, 28, 29, 30, 31, 32,\n",
       "        33, 34, 35, 36, 37, 38, 39, 40, 41, 42,  1,  0,  0,  0,  0,  0],\n",
       "       dtype=int32), 45)"
      ]
     },
     "execution_count": 60,
     "metadata": {},
     "output_type": "execute_result"
    }
   ],
   "source": [
    "encode_sentence(sample, vocab2index, N=50)"
   ]
  },
  {
   "cell_type": "code",
   "execution_count": 61,
   "metadata": {},
   "outputs": [],
   "source": [
    "class TweetDataset(Dataset):\n",
    "    def __init__(self, df, N=50, padding_start=True):\n",
    "        tweet = df['text'].tolist()\n",
    "        self.X = [encode_sentence(q, vocab2index, N, padding_start) for q in tweet]\n",
    "        self.y = df['label'].values        \n",
    "      \n",
    "    def __len__(self):\n",
    "        return len(self.y)\n",
    "    \n",
    "    def __getitem__(self, idx):\n",
    "        x, s = self.X[idx]\n",
    "        return x, s, self.y[idx]"
   ]
  },
  {
   "cell_type": "code",
   "execution_count": 62,
   "metadata": {},
   "outputs": [],
   "source": [
    "from sklearn.model_selection import train_test_split\n",
    "\n",
    "df_train, df_test, y_train, y_test = train_test_split(df, df['label'], test_size=0.2, random_state=42)"
   ]
  },
  {
   "cell_type": "code",
   "execution_count": 63,
   "metadata": {},
   "outputs": [],
   "source": [
    "train_df = df_train.reset_index(drop=True)\n",
    "test_df = df_test.reset_index(drop=True)"
   ]
  },
  {
   "cell_type": "code",
   "execution_count": 64,
   "metadata": {},
   "outputs": [
    {
     "data": {
      "text/plain": [
       "3869"
      ]
     },
     "execution_count": 64,
     "metadata": {},
     "output_type": "execute_result"
    }
   ],
   "source": [
    "len(train_df)"
   ]
  },
  {
   "cell_type": "code",
   "execution_count": 65,
   "metadata": {},
   "outputs": [
    {
     "data": {
      "text/plain": [
       "968"
      ]
     },
     "execution_count": 65,
     "metadata": {},
     "output_type": "execute_result"
    }
   ],
   "source": [
    "len(test_df)"
   ]
  },
  {
   "cell_type": "code",
   "execution_count": 66,
   "metadata": {},
   "outputs": [],
   "source": [
    "train_ds = TweetDataset(train_df)\n",
    "test_ds = TweetDataset(test_df)"
   ]
  },
  {
   "cell_type": "code",
   "execution_count": 67,
   "metadata": {},
   "outputs": [
    {
     "data": {
      "text/plain": [
       "(array([ 699,  290, 1108,   67,  222,  267,  628,    4, 2560, 1659,  106,\n",
       "         837,  116,  224,   28,  217,   19,  331,  108,    3,    4,  753,\n",
       "          59, 2561, 1758, 1804,   59, 2562, 2563,   19,  159,   40,    0,\n",
       "           0,    0,    0,    0,    0,    0,    0,    0,    0,    0,    0,\n",
       "           0,    0,    0,    0,    0,    0], dtype=int32), 32, 0)"
      ]
     },
     "execution_count": 67,
     "metadata": {},
     "output_type": "execute_result"
    }
   ],
   "source": [
    "train_ds[1]"
   ]
  },
  {
   "cell_type": "code",
   "execution_count": 68,
   "metadata": {},
   "outputs": [],
   "source": [
    "batch_size = 200\n",
    "train_dl = DataLoader(train_ds, batch_size=batch_size, shuffle=True)\n",
    "val_dl = DataLoader(test_ds, batch_size=batch_size)"
   ]
  },
  {
   "cell_type": "markdown",
   "metadata": {},
   "source": [
    "## GRU model"
   ]
  },
  {
   "cell_type": "code",
   "execution_count": 77,
   "metadata": {},
   "outputs": [],
   "source": [
    "class GRUModel(torch.nn.Module) :\n",
    "    def __init__(self, vocab_size, embedding_dim, hidden_dim, embedding_matrix):\n",
    "        super(GRUModel, self).__init__()\n",
    "        self.hidden_dim = hidden_dim\n",
    "        self.embedding = nn.Embedding(vocab_size, embedding_dim, padding_idx=0)\n",
    "        self.embedding.weight.data.copy_(torch.from_numpy(embedding_matrix))\n",
    "        self.embedding.weight.requires_grad = False ## freeze embeddings\n",
    "        self.dropout = nn.Dropout(0.5)\n",
    "        self.gru = nn.GRU(embedding_dim, hidden_dim, batch_first=True)\n",
    "        self.linear = nn.Linear(hidden_dim, 1)\n",
    "        \n",
    "    def forward(self, x, s):\n",
    "        s, sort_index = torch.sort(s, 0,descending=True)\n",
    "        s = s.numpy().tolist()\n",
    "        x = x[sort_index]\n",
    "        x = self.embedding(x)\n",
    "        x = self.dropout(x)\n",
    "        x_pack = pack_padded_sequence(x, list(s), batch_first=True)\n",
    "        out_pack, ht= self.gru(x_pack)\n",
    "        out = self.linear(ht[-1])\n",
    "        return torch.zeros_like(out).scatter_(0, sort_index.unsqueeze(1), out)"
   ]
  },
  {
   "cell_type": "code",
   "execution_count": 78,
   "metadata": {},
   "outputs": [],
   "source": [
    "def train_epocs(model, epochs=10, lr=0.001):\n",
    "    parameters = filter(lambda p: p.requires_grad, model.parameters())\n",
    "    optimizer = torch.optim.Adam(parameters, lr=lr)\n",
    "    for i in range(epochs):\n",
    "        model.train()\n",
    "        sum_loss = 0.0\n",
    "        total = 0\n",
    "        for x, s, y in train_dl:\n",
    "            x = x.long()\n",
    "            y = y.float()\n",
    "            y_pred = model(x, s)\n",
    "            optimizer.zero_grad()\n",
    "            loss = F.binary_cross_entropy_with_logits(y_pred, y.unsqueeze(1))\n",
    "            loss.backward()\n",
    "            optimizer.step()\n",
    "            sum_loss += loss.item()*y.shape[0]\n",
    "            total += y.shape[0]\n",
    "        val_loss, val_acc = val_metrics(model, val_dl)\n",
    "        if i % 5 == 1:\n",
    "            print(\"train loss %.3f val loss %.3f and val accuracy %.3f\" % (sum_loss/total, val_loss, val_acc))"
   ]
  },
  {
   "cell_type": "code",
   "execution_count": 79,
   "metadata": {},
   "outputs": [],
   "source": [
    "def val_metrics(model, valid_dl):\n",
    "    model.eval()\n",
    "    correct = 0\n",
    "    total = 0\n",
    "    sum_loss = 0.0\n",
    "    for x, s, y in valid_dl:\n",
    "        x = x.long()\n",
    "        y = y.float().unsqueeze(1)\n",
    "        y_hat = model(x, s)\n",
    "        loss = F.binary_cross_entropy_with_logits(y_hat, y)\n",
    "        y_pred = y_hat > 0\n",
    "        correct += (y_pred.float() == y).float().sum()\n",
    "        total += y.shape[0]\n",
    "        sum_loss += loss.item()*y.shape[0]\n",
    "    return sum_loss/total, correct/total"
   ]
  },
  {
   "cell_type": "code",
   "execution_count": 80,
   "metadata": {},
   "outputs": [
    {
     "name": "stdout",
     "output_type": "stream",
     "text": [
      "8686\n"
     ]
    }
   ],
   "source": [
    "vocab_size = len(words)\n",
    "print(vocab_size)\n",
    "model = GRUModel(vocab_size, 100, 50, embedding_matrix)"
   ]
  },
  {
   "cell_type": "code",
   "execution_count": 81,
   "metadata": {},
   "outputs": [
    {
     "name": "stdout",
     "output_type": "stream",
     "text": [
      "train loss 0.691 val loss 0.696 and val accuracy 0.511\n",
      "train loss 0.681 val loss 0.702 and val accuracy 0.508\n",
      "train loss 0.659 val loss 0.713 and val accuracy 0.520\n",
      "train loss 0.627 val loss 0.741 and val accuracy 0.507\n",
      "train loss 0.613 val loss 0.749 and val accuracy 0.535\n",
      "train loss 0.606 val loss 0.752 and val accuracy 0.512\n",
      "train loss 0.593 val loss 0.757 and val accuracy 0.519\n",
      "train loss 0.591 val loss 0.778 and val accuracy 0.519\n"
     ]
    }
   ],
   "source": [
    "train_epocs(model, epochs=40, lr=0.01)"
   ]
  },
  {
   "cell_type": "code",
   "execution_count": null,
   "metadata": {},
   "outputs": [],
   "source": []
  }
 ],
 "metadata": {
  "kernelspec": {
   "display_name": "Python 3",
   "language": "python",
   "name": "python3"
  },
  "language_info": {
   "codemirror_mode": {
    "name": "ipython",
    "version": 3
   },
   "file_extension": ".py",
   "mimetype": "text/x-python",
   "name": "python",
   "nbconvert_exporter": "python",
   "pygments_lexer": "ipython3",
   "version": "3.6.8"
  }
 },
 "nbformat": 4,
 "nbformat_minor": 2
}
